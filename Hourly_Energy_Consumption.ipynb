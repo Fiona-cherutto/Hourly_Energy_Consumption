{
 "cells": [
  {
   "cell_type": "markdown",
   "metadata": {},
   "source": [
    "# 0.0 IMPORTS"
   ]
  },
  {
   "cell_type": "code",
   "execution_count": 66,
   "metadata": {
    "ExecuteTime": {
     "end_time": "2020-07-06T18:44:03.973970Z",
     "start_time": "2020-07-06T18:44:03.969981Z"
    }
   },
   "outputs": [],
   "source": [
    "import pandas as pd\n",
    "import numpy as np\n",
    "import matplotlib.pyplot as plt\n",
    "import seaborn as sns\n",
    "\n",
    "from IPython.core.display  import HTML"
   ]
  },
  {
   "cell_type": "markdown",
   "metadata": {
    "heading_collapsed": true
   },
   "source": [
    "## 0.1 Helper Function"
   ]
  },
  {
   "cell_type": "code",
   "execution_count": 67,
   "metadata": {
    "ExecuteTime": {
     "end_time": "2020-07-06T18:44:05.193815Z",
     "start_time": "2020-07-06T18:44:05.186840Z"
    },
    "hidden": true
   },
   "outputs": [],
   "source": [
    "def jupyter_settings():\n",
    "    %matplotlib inline\n",
    "    %pylab inline\n",
    "    \n",
    "    plt.style.use( 'bmh' )\n",
    "    plt.rcParams['figure.figsize'] = [25, 12]\n",
    "    plt.rcParams['font.size'] = 24\n",
    "    \n",
    "    display( HTML( '<style>.container { width:100% !important; }</style>') )\n",
    "    pd.options.display.max_columns = None\n",
    "    pd.options.display.max_rows = None\n",
    "    pd.set_option( 'display.expand_frame_repr', False )\n",
    "    \n",
    "    sns.set()"
   ]
  },
  {
   "cell_type": "code",
   "execution_count": 68,
   "metadata": {
    "ExecuteTime": {
     "end_time": "2020-07-06T18:44:06.146492Z",
     "start_time": "2020-07-06T18:44:06.031378Z"
    },
    "hidden": true
   },
   "outputs": [
    {
     "name": "stdout",
     "output_type": "stream",
     "text": [
      "Populating the interactive namespace from numpy and matplotlib\n"
     ]
    },
    {
     "data": {
      "text/html": [
       "<style>.container { width:100% !important; }</style>"
      ],
      "text/plain": [
       "<IPython.core.display.HTML object>"
      ]
     },
     "metadata": {},
     "output_type": "display_data"
    }
   ],
   "source": [
    "jupyter_settings()"
   ]
  },
  {
   "cell_type": "markdown",
   "metadata": {
    "heading_collapsed": true
   },
   "source": [
    "## 0.2 Loading Data"
   ]
  },
  {
   "cell_type": "code",
   "execution_count": 119,
   "metadata": {
    "ExecuteTime": {
     "end_time": "2020-07-06T18:56:04.069283Z",
     "start_time": "2020-07-06T18:56:03.562639Z"
    },
    "hidden": true
   },
   "outputs": [],
   "source": [
    "aep = pd.read_csv( 'data/AEP_hourly.csv', low_memory=False )\n",
    "comed = pd.read_csv( 'data/COMED_hourly.csv', low_memory=False )\n",
    "dayton = pd.read_csv( 'data/DAYTON_hourly.csv', low_memory=False )\n",
    "deok = pd.read_csv( 'data/DEOK_hourly.csv', low_memory=False )\n",
    "dom = pd.read_csv( 'data/DOM_hourly.csv', low_memory=False )\n",
    "duq = pd.read_csv( 'data/DUQ_hourly.csv', low_memory=False )\n",
    "ekpc = pd.read_csv( 'data/EKPC_hourly.csv', low_memory=False )\n",
    "fe = pd.read_csv( 'data/FE_hourly.csv', low_memory=False )\n",
    "ni = pd.read_csv( 'data/NI_hourly.csv', low_memory=False )\n",
    "pjm = pd.read_csv( 'data/PJM_Load_hourly.csv', low_memory=False )\n",
    "pjme = pd.read_csv( 'data/PJME_hourly.csv', low_memory=False )\n",
    "pjmw = pd.read_csv( 'data/PJMW_hourly.csv', low_memory=False )"
   ]
  },
  {
   "cell_type": "code",
   "execution_count": 120,
   "metadata": {
    "ExecuteTime": {
     "end_time": "2020-07-06T18:56:07.065650Z",
     "start_time": "2020-07-06T18:56:07.051688Z"
    },
    "hidden": true
   },
   "outputs": [],
   "source": [
    "# I will combine all the datasets into one. For this I will create a column in each of the datasets that will identify your respective electric company.\n",
    "\n",
    "aep['electric_company'] = 'AEP'\n",
    "comed['electric_company'] = 'COMED'\n",
    "dayton['electric_company'] = 'DAYTON'\n",
    "deok['electric_company'] = 'DEOK'\n",
    "dom['electric_company'] = 'DOM'\n",
    "duq['electric_company'] = 'DUQ'\n",
    "ekpc['electric_company'] = 'EKPC'\n",
    "fe['electric_company'] = 'FE'\n",
    "ni['electric_company'] = 'NI'\n",
    "pjm['electric_company'] = 'PJM'\n",
    "pjme['electric_company'] = 'PJME'\n",
    "pjmw['electric_company'] = 'PJMW'"
   ]
  },
  {
   "cell_type": "code",
   "execution_count": 121,
   "metadata": {
    "ExecuteTime": {
     "end_time": "2020-07-06T18:56:07.952949Z",
     "start_time": "2020-07-06T18:56:07.842157Z"
    },
    "hidden": true
   },
   "outputs": [],
   "source": [
    "# the column in each dataset that shows the Megawatt Energy Consumption, I will rename it with the same name in all.\n",
    "\n",
    "aep = aep.rename( columns={'AEP_MW': 'mw_energy_consumption'} )\n",
    "comed = comed.rename( columns={'COMED_MW': 'mw_energy_consumption'} )\n",
    "dayton = dayton.rename( columns={'DAYTON_MW': 'mw_energy_consumption'} )\n",
    "deok = deok.rename( columns={'DEOK_MW': 'mw_energy_consumption'} )\n",
    "dom = dom.rename( columns={'DOM_MW': 'mw_energy_consumption'} )\n",
    "duq = duq.rename( columns={'DUQ_MW': 'mw_energy_consumption'} )\n",
    "ekpc = ekpc.rename( columns={'EKPC_MW': 'mw_energy_consumption'} )\n",
    "fe = fe.rename( columns={'FE_MW': 'mw_energy_consumption'} )\n",
    "ni = ni.rename( columns={'NI_MW': 'mw_energy_consumption'} )\n",
    "pjm = pjm.rename( columns={'PJM_Load_MW': 'mw_energy_consumption'} )\n",
    "pjme = pjme.rename( columns={'PJME_MW': 'mw_energy_consumption'} )\n",
    "pjmw = pjmw.rename( columns={'PJMW_MW': 'mw_energy_consumption'} )"
   ]
  },
  {
   "cell_type": "code",
   "execution_count": 124,
   "metadata": {
    "ExecuteTime": {
     "end_time": "2020-07-06T18:57:27.581925Z",
     "start_time": "2020-07-06T18:57:27.434291Z"
    },
    "hidden": true
   },
   "outputs": [
    {
     "data": {
      "text/html": [
       "<div>\n",
       "<style scoped>\n",
       "    .dataframe tbody tr th:only-of-type {\n",
       "        vertical-align: middle;\n",
       "    }\n",
       "\n",
       "    .dataframe tbody tr th {\n",
       "        vertical-align: top;\n",
       "    }\n",
       "\n",
       "    .dataframe thead th {\n",
       "        text-align: right;\n",
       "    }\n",
       "</style>\n",
       "<table border=\"1\" class=\"dataframe\">\n",
       "  <thead>\n",
       "    <tr style=\"text-align: right;\">\n",
       "      <th></th>\n",
       "      <th>Datetime</th>\n",
       "      <th>mw_energy_consumption</th>\n",
       "      <th>electric_company</th>\n",
       "    </tr>\n",
       "  </thead>\n",
       "  <tbody>\n",
       "    <tr>\n",
       "      <th>77604</th>\n",
       "      <td>2013-05-25 09:00:00</td>\n",
       "      <td>12329.0</td>\n",
       "      <td>AEP</td>\n",
       "    </tr>\n",
       "    <tr>\n",
       "      <th>140369</th>\n",
       "      <td>2018-07-28 19:00:00</td>\n",
       "      <td>42174.0</td>\n",
       "      <td>PJME</td>\n",
       "    </tr>\n",
       "    <tr>\n",
       "      <th>120607</th>\n",
       "      <td>2018-01-28 05:00:00</td>\n",
       "      <td>1635.0</td>\n",
       "      <td>DAYTON</td>\n",
       "    </tr>\n",
       "    <tr>\n",
       "      <th>27429</th>\n",
       "      <td>2014-06-16 02:00:00</td>\n",
       "      <td>6428.0</td>\n",
       "      <td>FE</td>\n",
       "    </tr>\n",
       "    <tr>\n",
       "      <th>22043</th>\n",
       "      <td>2015-01-26 13:00:00</td>\n",
       "      <td>2016.0</td>\n",
       "      <td>EKPC</td>\n",
       "    </tr>\n",
       "  </tbody>\n",
       "</table>\n",
       "</div>"
      ],
      "text/plain": [
       "                   Datetime  mw_energy_consumption electric_company\n",
       "77604   2013-05-25 09:00:00                12329.0              AEP\n",
       "140369  2018-07-28 19:00:00                42174.0             PJME\n",
       "120607  2018-01-28 05:00:00                 1635.0           DAYTON\n",
       "27429   2014-06-16 02:00:00                 6428.0               FE\n",
       "22043   2015-01-26 13:00:00                 2016.0             EKPC"
      ]
     },
     "execution_count": 124,
     "metadata": {},
     "output_type": "execute_result"
    }
   ],
   "source": [
    "# Concatenate all the datasets\n",
    "df_raw = pd.concat( [aep, comed, dayton, deok, dom, duq, ekpc, fe, ni, pjm, pjme, pjmw] )\n",
    "df_raw.sample(5) # check"
   ]
  },
  {
   "cell_type": "markdown",
   "metadata": {
    "heading_collapsed": true
   },
   "source": [
    "# 1.0 STEP 01 - DESCRIPTION OF DATA"
   ]
  },
  {
   "cell_type": "code",
   "execution_count": 126,
   "metadata": {
    "ExecuteTime": {
     "end_time": "2020-07-06T18:59:10.798753Z",
     "start_time": "2020-07-06T18:59:10.777810Z"
    },
    "hidden": true
   },
   "outputs": [],
   "source": [
    "# At the beginning of each step I will make a copy of the dataset to make it easier to reload the data in case there is a problem with the project.\n",
    "df1 = df_raw.copy()"
   ]
  },
  {
   "cell_type": "markdown",
   "metadata": {
    "heading_collapsed": true,
    "hidden": true
   },
   "source": [
    "## 1.1 Rename Columns"
   ]
  },
  {
   "cell_type": "code",
   "execution_count": 127,
   "metadata": {
    "ExecuteTime": {
     "end_time": "2020-07-06T19:01:14.094053Z",
     "start_time": "2020-07-06T19:01:14.089067Z"
    },
    "hidden": true
   },
   "outputs": [
    {
     "data": {
      "text/plain": [
       "Index(['Datetime', 'mw_energy_consumption', 'electric_company'], dtype='object')"
      ]
     },
     "execution_count": 127,
     "metadata": {},
     "output_type": "execute_result"
    }
   ],
   "source": [
    "# Although I already renamed some columns when I was preparing the datasets to concatenate them, I will check if there are any more columns that are not in the format I want them to be.\n",
    "df1.columns"
   ]
  },
  {
   "cell_type": "code",
   "execution_count": 128,
   "metadata": {
    "ExecuteTime": {
     "end_time": "2020-07-06T19:08:00.979655Z",
     "start_time": "2020-07-06T19:08:00.974680Z"
    },
    "hidden": true
   },
   "outputs": [],
   "source": [
    "# Only the column \"Datetime\" don't have the format that I want.\n",
    "cols_old = ['Datetime', 'mw_energy_consumption', 'electric_company']\n",
    "\n",
    "# If the dataset had too many columns to change I would use the \"snakecase\" technique through the \"inflection\" function. Since this dataset has only one column to change the name, I will do this process manually.\n",
    "cols_new = ['datetime', 'mw_energy_consumption', 'electric_company']\n",
    "\n",
    "# rename\n",
    "df1.columns = cols_new"
   ]
  },
  {
   "cell_type": "code",
   "execution_count": 129,
   "metadata": {
    "ExecuteTime": {
     "end_time": "2020-07-06T19:08:07.190113Z",
     "start_time": "2020-07-06T19:08:07.186154Z"
    },
    "hidden": true
   },
   "outputs": [
    {
     "data": {
      "text/plain": [
       "Index(['datetime', 'mw_energy_consumption', 'electric_company'], dtype='object')"
      ]
     },
     "execution_count": 129,
     "metadata": {},
     "output_type": "execute_result"
    }
   ],
   "source": [
    "df1.columns"
   ]
  },
  {
   "cell_type": "markdown",
   "metadata": {
    "heading_collapsed": true,
    "hidden": true
   },
   "source": [
    "## 1.2 Data Dimensions"
   ]
  },
  {
   "cell_type": "code",
   "execution_count": 130,
   "metadata": {
    "ExecuteTime": {
     "end_time": "2020-07-06T19:08:58.860941Z",
     "start_time": "2020-07-06T19:08:58.855954Z"
    },
    "hidden": true
   },
   "outputs": [
    {
     "name": "stdout",
     "output_type": "stream",
     "text": [
      "Number of Rows: 1090167\n",
      "Number of Cols: 3\n"
     ]
    }
   ],
   "source": [
    "print( 'Number of Rows: {}'.format( df1.shape[0] ) )\n",
    "print( 'Number of Cols: {}'.format( df1.shape[1] ) )\n",
    "# Evaluate the possibilite do use this project in your computer"
   ]
  },
  {
   "cell_type": "markdown",
   "metadata": {
    "heading_collapsed": true,
    "hidden": true
   },
   "source": [
    "## 1.3 Data Types"
   ]
  },
  {
   "cell_type": "code",
   "execution_count": 131,
   "metadata": {
    "ExecuteTime": {
     "end_time": "2020-07-06T19:09:53.206469Z",
     "start_time": "2020-07-06T19:09:53.201482Z"
    },
    "hidden": true
   },
   "outputs": [
    {
     "data": {
      "text/plain": [
       "datetime                  object\n",
       "mw_energy_consumption    float64\n",
       "electric_company          object\n",
       "dtype: object"
      ]
     },
     "execution_count": 131,
     "metadata": {},
     "output_type": "execute_result"
    }
   ],
   "source": [
    "df1.dtypes\n",
    "# Observe datetime. It has a different data type."
   ]
  },
  {
   "cell_type": "code",
   "execution_count": 132,
   "metadata": {
    "ExecuteTime": {
     "end_time": "2020-07-06T19:14:25.778174Z",
     "start_time": "2020-07-06T19:14:25.199868Z"
    },
    "hidden": true
   },
   "outputs": [],
   "source": [
    "# function \"datetime\" transforma the columns \"datetime\" from object (string) to datetime.\n",
    "df1['datetime'] = pd.to_datetime( df1['datetime'] )"
   ]
  },
  {
   "cell_type": "code",
   "execution_count": 133,
   "metadata": {
    "ExecuteTime": {
     "end_time": "2020-07-06T19:14:35.946703Z",
     "start_time": "2020-07-06T19:14:35.938726Z"
    },
    "hidden": true
   },
   "outputs": [
    {
     "data": {
      "text/plain": [
       "datetime                 datetime64[ns]\n",
       "mw_energy_consumption           float64\n",
       "electric_company                 object\n",
       "dtype: object"
      ]
     },
     "execution_count": 133,
     "metadata": {},
     "output_type": "execute_result"
    }
   ],
   "source": [
    "df1.dtypes"
   ]
  },
  {
   "cell_type": "markdown",
   "metadata": {
    "heading_collapsed": true,
    "hidden": true
   },
   "source": [
    "## 1.4 Check NA"
   ]
  },
  {
   "cell_type": "code",
   "execution_count": 134,
   "metadata": {
    "ExecuteTime": {
     "end_time": "2020-07-06T19:15:09.578507Z",
     "start_time": "2020-07-06T19:15:09.535622Z"
    },
    "hidden": true
   },
   "outputs": [
    {
     "data": {
      "text/plain": [
       "datetime                 0\n",
       "mw_energy_consumption    0\n",
       "electric_company         0\n",
       "dtype: int64"
      ]
     },
     "execution_count": 134,
     "metadata": {},
     "output_type": "execute_result"
    }
   ],
   "source": [
    "df1.isna().sum()"
   ]
  },
  {
   "cell_type": "markdown",
   "metadata": {
    "heading_collapsed": true,
    "hidden": true
   },
   "source": [
    "## 1.5 Fillout NA"
   ]
  },
  {
   "cell_type": "code",
   "execution_count": 135,
   "metadata": {
    "ExecuteTime": {
     "end_time": "2020-07-06T19:16:24.816597Z",
     "start_time": "2020-07-06T19:16:24.813605Z"
    },
    "hidden": true
   },
   "outputs": [],
   "source": [
    "# We don't have NA value to fillout... :)"
   ]
  },
  {
   "cell_type": "markdown",
   "metadata": {
    "heading_collapsed": true,
    "hidden": true
   },
   "source": [
    "## 1.6 Change Types"
   ]
  },
  {
   "cell_type": "code",
   "execution_count": 136,
   "metadata": {
    "ExecuteTime": {
     "end_time": "2020-07-06T19:17:30.493224Z",
     "start_time": "2020-07-06T19:17:30.489234Z"
    },
    "hidden": true
   },
   "outputs": [],
   "source": [
    "# We already did the change types."
   ]
  },
  {
   "cell_type": "markdown",
   "metadata": {
    "heading_collapsed": true,
    "hidden": true
   },
   "source": [
    "## 1.7 Descriptive Statistical"
   ]
  },
  {
   "cell_type": "code",
   "execution_count": 137,
   "metadata": {
    "ExecuteTime": {
     "end_time": "2020-07-06T19:28:08.796980Z",
     "start_time": "2020-07-06T19:28:08.777032Z"
    },
    "hidden": true
   },
   "outputs": [],
   "source": [
    "# divide into numerical and categorical columns, as they will be treated with different techniques.\n",
    "num_attributes = df1.select_dtypes( include=['float64'] )\n",
    "cat_attributes = df1.select_dtypes( exclude=['float64', 'datetime64[ns]'] )"
   ]
  },
  {
   "cell_type": "code",
   "execution_count": 139,
   "metadata": {
    "ExecuteTime": {
     "end_time": "2020-07-06T19:28:23.362693Z",
     "start_time": "2020-07-06T19:28:23.322800Z"
    },
    "hidden": true
   },
   "outputs": [
    {
     "data": {
      "text/html": [
       "<div>\n",
       "<style scoped>\n",
       "    .dataframe tbody tr th:only-of-type {\n",
       "        vertical-align: middle;\n",
       "    }\n",
       "\n",
       "    .dataframe tbody tr th {\n",
       "        vertical-align: top;\n",
       "    }\n",
       "\n",
       "    .dataframe thead th {\n",
       "        text-align: right;\n",
       "    }\n",
       "</style>\n",
       "<table border=\"1\" class=\"dataframe\">\n",
       "  <thead>\n",
       "    <tr style=\"text-align: right;\">\n",
       "      <th></th>\n",
       "      <th>mw_energy_consumption</th>\n",
       "    </tr>\n",
       "  </thead>\n",
       "  <tbody>\n",
       "    <tr>\n",
       "      <th>4028</th>\n",
       "      <td>39569.0</td>\n",
       "    </tr>\n",
       "  </tbody>\n",
       "</table>\n",
       "</div>"
      ],
      "text/plain": [
       "      mw_energy_consumption\n",
       "4028                39569.0"
      ]
     },
     "execution_count": 139,
     "metadata": {},
     "output_type": "execute_result"
    }
   ],
   "source": [
    "num_attributes.sample()"
   ]
  },
  {
   "cell_type": "code",
   "execution_count": 140,
   "metadata": {
    "ExecuteTime": {
     "end_time": "2020-07-06T19:28:29.584982Z",
     "start_time": "2020-07-06T19:28:29.543095Z"
    },
    "hidden": true
   },
   "outputs": [
    {
     "data": {
      "text/html": [
       "<div>\n",
       "<style scoped>\n",
       "    .dataframe tbody tr th:only-of-type {\n",
       "        vertical-align: middle;\n",
       "    }\n",
       "\n",
       "    .dataframe tbody tr th {\n",
       "        vertical-align: top;\n",
       "    }\n",
       "\n",
       "    .dataframe thead th {\n",
       "        text-align: right;\n",
       "    }\n",
       "</style>\n",
       "<table border=\"1\" class=\"dataframe\">\n",
       "  <thead>\n",
       "    <tr style=\"text-align: right;\">\n",
       "      <th></th>\n",
       "      <th>electric_company</th>\n",
       "    </tr>\n",
       "  </thead>\n",
       "  <tbody>\n",
       "    <tr>\n",
       "      <th>54163</th>\n",
       "      <td>FE</td>\n",
       "    </tr>\n",
       "  </tbody>\n",
       "</table>\n",
       "</div>"
      ],
      "text/plain": [
       "      electric_company\n",
       "54163               FE"
      ]
     },
     "execution_count": 140,
     "metadata": {},
     "output_type": "execute_result"
    }
   ],
   "source": [
    "cat_attributes.sample()"
   ]
  },
  {
   "cell_type": "markdown",
   "metadata": {
    "heading_collapsed": true,
    "hidden": true
   },
   "source": [
    "### 1.7.1 Numerical Attibutes"
   ]
  },
  {
   "cell_type": "code",
   "execution_count": 141,
   "metadata": {
    "ExecuteTime": {
     "end_time": "2020-07-06T19:29:42.926331Z",
     "start_time": "2020-07-06T19:29:42.656851Z"
    },
    "hidden": true
   },
   "outputs": [],
   "source": [
    "# Central Tendency - mean, median\n",
    "ct1 = pd.DataFrame( num_attributes.apply( np.mean ) ).T\n",
    "ct2 = pd.DataFrame( num_attributes.apply( np.median ) ).T\n",
    "\n",
    "# Dispersion - std, min, max, range, skew, kurtosis\n",
    "d1 = pd.DataFrame( num_attributes.apply( np.std ) ).T\n",
    "d2 = pd.DataFrame( num_attributes.apply( min ) ).T\n",
    "d3 = pd.DataFrame( num_attributes.apply( max ) ).T\n",
    "d4 = pd.DataFrame( num_attributes.apply( lambda x: x.max() - x.min() ) ).T\n",
    "d5 = pd.DataFrame( num_attributes.apply( lambda x: x.skew() ) ).T\n",
    "d6 = pd.DataFrame( num_attributes.apply( lambda x: x.kurtosis() ) ).T\n",
    "\n",
    "# concatenate\n",
    "m = pd.concat( [d2, d3, d4, ct1, ct2, d1, d5, d6] ).T.reset_index()\n",
    "m.columns = ( ['attributes', 'min', 'max', 'range', 'mean', 'median', 'std', 'skew', 'kurtosis'])"
   ]
  },
  {
   "cell_type": "code",
   "execution_count": 142,
   "metadata": {
    "ExecuteTime": {
     "end_time": "2020-07-06T19:29:46.321221Z",
     "start_time": "2020-07-06T19:29:46.307260Z"
    },
    "hidden": true
   },
   "outputs": [
    {
     "data": {
      "text/html": [
       "<div>\n",
       "<style scoped>\n",
       "    .dataframe tbody tr th:only-of-type {\n",
       "        vertical-align: middle;\n",
       "    }\n",
       "\n",
       "    .dataframe tbody tr th {\n",
       "        vertical-align: top;\n",
       "    }\n",
       "\n",
       "    .dataframe thead th {\n",
       "        text-align: right;\n",
       "    }\n",
       "</style>\n",
       "<table border=\"1\" class=\"dataframe\">\n",
       "  <thead>\n",
       "    <tr style=\"text-align: right;\">\n",
       "      <th></th>\n",
       "      <th>attributes</th>\n",
       "      <th>min</th>\n",
       "      <th>max</th>\n",
       "      <th>range</th>\n",
       "      <th>mean</th>\n",
       "      <th>median</th>\n",
       "      <th>std</th>\n",
       "      <th>skew</th>\n",
       "      <th>kurtosis</th>\n",
       "    </tr>\n",
       "  </thead>\n",
       "  <tbody>\n",
       "    <tr>\n",
       "      <th>0</th>\n",
       "      <td>mw_energy_consumption</td>\n",
       "      <td>0.0</td>\n",
       "      <td>62009.0</td>\n",
       "      <td>62009.0</td>\n",
       "      <td>11209.58865</td>\n",
       "      <td>8217.0</td>\n",
       "      <td>10534.394704</td>\n",
       "      <td>1.356423</td>\n",
       "      <td>1.198281</td>\n",
       "    </tr>\n",
       "  </tbody>\n",
       "</table>\n",
       "</div>"
      ],
      "text/plain": [
       "              attributes  min      max    range         mean  median           std      skew  kurtosis\n",
       "0  mw_energy_consumption  0.0  62009.0  62009.0  11209.58865  8217.0  10534.394704  1.356423  1.198281"
      ]
     },
     "execution_count": 142,
     "metadata": {},
     "output_type": "execute_result"
    }
   ],
   "source": [
    "m"
   ]
  },
  {
   "cell_type": "code",
   "execution_count": 143,
   "metadata": {
    "ExecuteTime": {
     "end_time": "2020-07-06T19:30:56.056611Z",
     "start_time": "2020-07-06T19:30:50.486554Z"
    },
    "hidden": true
   },
   "outputs": [
    {
     "data": {
      "text/plain": [
       "<matplotlib.axes._subplots.AxesSubplot at 0x21b16e3c908>"
      ]
     },
     "execution_count": 143,
     "metadata": {},
     "output_type": "execute_result"
    },
    {
     "data": {
      "image/png": "[encoded data removed]",
      "text/plain": [
       "<Figure size 1800x864 with 1 Axes>"
      ]
     },
     "metadata": {},
     "output_type": "display_data"
    }
   ],
   "source": [
    "sns.distplot( df1['mw_energy_consumption'] )"
   ]
  },
  {
   "cell_type": "markdown",
   "metadata": {
    "ExecuteTime": {
     "end_time": "2020-07-06T19:31:36.247307Z",
     "start_time": "2020-07-06T19:31:36.244352Z"
    },
    "heading_collapsed": true,
    "hidden": true
   },
   "source": [
    "### 1.7.2 Cetegorical Attibutes"
   ]
  },
  {
   "cell_type": "code",
   "execution_count": 145,
   "metadata": {
    "ExecuteTime": {
     "end_time": "2020-07-06T19:31:59.856324Z",
     "start_time": "2020-07-06T19:31:59.818412Z"
    },
    "hidden": true
   },
   "outputs": [
    {
     "data": {
      "text/plain": [
       "electric_company    12\n",
       "dtype: int64"
      ]
     },
     "execution_count": 145,
     "metadata": {},
     "output_type": "execute_result"
    }
   ],
   "source": [
    "cat_attributes.apply( lambda x: x.unique().shape[0] )"
   ]
  },
  {
   "cell_type": "code",
   "execution_count": 146,
   "metadata": {
    "ExecuteTime": {
     "end_time": "2020-07-06T19:33:53.708271Z",
     "start_time": "2020-07-06T19:33:44.859964Z"
    },
    "hidden": true
   },
   "outputs": [
    {
     "data": {
      "text/plain": [
       "<matplotlib.axes._subplots.AxesSubplot at 0x21b14a21c08>"
      ]
     },
     "execution_count": 146,
     "metadata": {},
     "output_type": "execute_result"
    },
    {
     "data": {
      "image/png": "[encoded data removed]",
      "text/plain": [
       "<Figure size 1800x864 with 1 Axes>"
      ]
     },
     "metadata": {},
     "output_type": "display_data"
    }
   ],
   "source": [
    "sns.boxplot( x= 'electric_company', y='mw_energy_consumption' , data=df1 )"
   ]
  },
  {
   "cell_type": "markdown",
   "metadata": {},
   "source": [
    "# 2.0 STEP 02 - FEATURE ENGINEERING"
   ]
  },
  {
   "cell_type": "code",
   "execution_count": 147,
   "metadata": {
    "ExecuteTime": {
     "end_time": "2020-07-06T19:35:32.982600Z",
     "start_time": "2020-07-06T19:35:32.968253Z"
    }
   },
   "outputs": [],
   "source": [
    "df2 = df1.copy()"
   ]
  },
  {
   "cell_type": "code",
   "execution_count": null,
   "metadata": {},
   "outputs": [],
   "source": []
  }
 ],
 "metadata": {
  "kernelspec": {
   "display_name": "Python 3",
   "language": "python",
   "name": "python3"
  },
  "language_info": {
   "codemirror_mode": {
    "name": "ipython",
    "version": 3
   },
   "file_extension": ".py",
   "mimetype": "text/x-python",
   "name": "python",
   "nbconvert_exporter": "python",
   "pygments_lexer": "ipython3",
   "version": "3.7.7"
  }
 },
 "nbformat": 4,
 "nbformat_minor": 4
}
